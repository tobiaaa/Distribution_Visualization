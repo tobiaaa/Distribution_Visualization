{
 "cells": [
  {
   "cell_type": "markdown",
   "source": [
    "# Distribution Visualization"
   ],
   "metadata": {
    "collapsed": false,
    "pycharm": {
     "name": "#%% md\n"
    }
   }
  },
  {
   "cell_type": "code",
   "execution_count": null,
   "outputs": [],
   "source": [
    "import numpy as np\n",
    "import matplotlib.pyplot as plt\n",
    "import seaborn as sns"
   ],
   "metadata": {
    "collapsed": false,
    "pycharm": {
     "name": "#%%\n"
    }
   }
  },
  {
   "cell_type": "markdown",
   "source": [
    "## Univariate"
   ],
   "metadata": {
    "collapsed": false,
    "pycharm": {
     "name": "#%% md\n"
    }
   }
  },
  {
   "cell_type": "markdown",
   "source": [
    "#### Bernoulli\n",
    "A Bernoulli distribution describes the distribution of a single binary random variable. A \"1\" can be interpreted as a \"Hit\" and a \"0\" as a \"Miss\". The parameter `p` is the probability for a \"Hit\"."
   ],
   "metadata": {
    "collapsed": false,
    "pycharm": {
     "name": "#%% md\n"
    }
   }
  },
  {
   "cell_type": "code",
   "execution_count": 62,
   "outputs": [
    {
     "data": {
      "text/plain": "<Figure size 432x288 with 1 Axes>",
      "image/png": "[encoded data removed]"
     },
     "metadata": {},
     "output_type": "display_data"
    },
    {
     "name": "stdout",
     "output_type": "stream",
     "text": [
      "Mean: 0.500\n"
     ]
    }
   ],
   "source": [
    "# You can play around with this parameter\n",
    "# p must satisfy 0<=p<=1\n",
    "p = 0.5\n",
    "\n",
    "def bernoulli(num_iter=100_000):\n",
    "    assert (0.0<=p<=1.0)\n",
    "    x = np.random.rand(num_iter)\n",
    "    y = (x < p).astype(int)\n",
    "    g = sns.histplot(y,\n",
    "                     discrete=True,\n",
    "                     stat='probability')\n",
    "    g.set_xticks((0, 1))\n",
    "    g.set_xticklabels(('0', '1'))\n",
    "    plt.show()\n",
    "    print(f'Mean: {p:0.3f}')\n",
    "\n",
    "bernoulli()"
   ],
   "metadata": {
    "collapsed": false,
    "pycharm": {
     "name": "#%%\n"
    }
   }
  },
  {
   "cell_type": "markdown",
   "source": [
    "#### Gaussian Distribution\n",
    "The Gaussian Distribution, also called Normal Distribution, describes a real valued random variable. The Mean μ describes the position of the peak. The Variance σ is a measure of how broad the curve is. The inflection points of the curve are at μ±σ."
   ],
   "metadata": {
    "collapsed": false,
    "pycharm": {
     "name": "#%% md\n"
    }
   }
  },
  {
   "cell_type": "code",
   "execution_count": 64,
   "outputs": [
    {
     "data": {
      "text/plain": "<Figure size 432x288 with 1 Axes>",
      "image/png": "[encoded data removed]"
     },
     "metadata": {},
     "output_type": "display_data"
    }
   ],
   "source": [
    "# You can play around with these parameters\n",
    "mu = 0.0\n",
    "# Sigma must satisfy 0<sigma\n",
    "sigma = 1.0\n",
    "\n",
    "def gaussian(num_iter=10_000):\n",
    "    assert sigma>0.0\n",
    "    x = np.linspace(mu - 4*sigma, mu + 4*sigma, 1000)\n",
    "    y = (1 / np.sqrt(2*np.pi*(sigma**2))) * np.exp(-1/(2*(sigma**2))*(x-mu)**2)\n",
    "    y_mont = (np.random.randn(num_iter) * sigma) + mu\n",
    "    g = sns.histplot(y_mont,\n",
    "                     stat='density')\n",
    "    plt.plot(x, y, color='orange', linewidth=2)\n",
    "    # Uncomment next line to set custom limits for the x-axis\n",
    "    # plt.xlim((-5, 5))\n",
    "    plt.show()\n",
    "\n",
    "gaussian()"
   ],
   "metadata": {
    "collapsed": false,
    "pycharm": {
     "name": "#%%\n"
    }
   }
  },
  {
   "cell_type": "markdown",
   "source": [
    "#### Exponential Distribution"
   ],
   "metadata": {
    "collapsed": false,
    "pycharm": {
     "name": "#%% md\n"
    }
   }
  },
  {
   "cell_type": "code",
   "execution_count": null,
   "outputs": [],
   "source": [
    "# You can play around with this parameter\n",
    "# Lambda must satifsy lambda > 0.0\n",
    "lambda_e = 1.0\n",
    "\n",
    "def exponential(num_iter=10_000):\n",
    "    assert lambda_e > 0.0\n",
    "    x = np.linspace(0, 10/lambda_e, 1000)\n",
    "    y = lambda_e * np.exp(-(lambda_e * x))\n",
    "    y_mont = np.random.exponential(1/lambda_e, num_iter)\n",
    "    g = sns.histplot(y_mont,\n",
    "                     stat='density')\n",
    "    plt.plot(x, y, color='orange', linewidth=2)\n",
    "    plt.show()\n",
    "\n",
    "exponential()"
   ],
   "metadata": {
    "collapsed": false,
    "pycharm": {
     "name": "#%%\n"
    }
   }
  },
  {
   "cell_type": "markdown",
   "source": [
    "#### Laplace Distribution"
   ],
   "metadata": {
    "collapsed": false,
    "pycharm": {
     "name": "#%% md\n"
    }
   }
  },
  {
   "cell_type": "code",
   "execution_count": null,
   "outputs": [],
   "source": [
    "# You can play around with this parameter\n",
    "mu = 0.0\n",
    "# Gamma mus satisfy gamma>0\n",
    "gamma = 1.0\n",
    "\n",
    "def laplace(num_iter=10_000):\n",
    "    assert gamma > 0\n",
    "    x = np.linspace(mu-8*gamma, mu+8*gamma, 1000)\n",
    "    y = (0.5/gamma) * np.exp(-(np.abs(x - mu) / gamma))\n",
    "    y_mont = np.random.laplace(mu, gamma, num_iter)\n",
    "    g = sns.histplot(y_mont,\n",
    "                     stat='density')\n",
    "    plt.plot(x, y, color='orange', linewidth=2)\n",
    "    plt.show()\n",
    "\n",
    "laplace()"
   ],
   "metadata": {
    "collapsed": false,
    "pycharm": {
     "name": "#%%\n"
    }
   }
  },
  {
   "cell_type": "markdown",
   "source": [
    "## Multivariate"
   ],
   "metadata": {
    "collapsed": false,
    "pycharm": {
     "name": "#%% md\n"
    }
   }
  },
  {
   "cell_type": "markdown",
   "source": [
    "#### Gaussian Distribution"
   ],
   "metadata": {
    "collapsed": false,
    "pycharm": {
     "name": "#%% md\n"
    }
   }
  },
  {
   "cell_type": "code",
   "execution_count": null,
   "outputs": [],
   "source": [
    "# You can play around with these parameters\n",
    "sigma = np.array([0, 0])\n",
    "mu = np.array([[1.0, 0.0],\n",
    "               [0.0, 1.0]])\n",
    "\n",
    "def multi_gaussian(num_iters=10000):\n",
    "    y = np.random.randn(2, num_iters)\n",
    "    y = (y.T @ mu).T + np.expand_dims(sigma, 1)\n",
    "    sns.scatterplot(x=y[0], y=y[1])\n",
    "    sns.histplot(x=y[0], y=y[1], bins=50, pthresh=.1)\n",
    "    sns.kdeplot(x=y[0], y=y[1], levels=6, color=\"w\", linewidths=1)\n",
    "    plt.axis('equal')\n",
    "    plt.show()\n",
    "\n",
    "multi_gaussian()"
   ],
   "metadata": {
    "collapsed": false,
    "pycharm": {
     "name": "#%%\n"
    }
   }
  },
  {
   "cell_type": "code",
   "execution_count": null,
   "outputs": [],
   "source": [],
   "metadata": {
    "collapsed": false,
    "pycharm": {
     "name": "#%%\n"
    }
   }
  }
 ],
 "metadata": {
  "kernelspec": {
   "display_name": "Python 3",
   "language": "python",
   "name": "python3"
  },
  "language_info": {
   "codemirror_mode": {
    "name": "ipython",
    "version": 2
   },
   "file_extension": ".py",
   "mimetype": "text/x-python",
   "name": "python",
   "nbconvert_exporter": "python",
   "pygments_lexer": "ipython2",
   "version": "2.7.6"
  }
 },
 "nbformat": 4,
 "nbformat_minor": 0
}